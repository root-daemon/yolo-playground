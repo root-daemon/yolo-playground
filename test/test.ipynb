{
 "cells": [
  {
   "cell_type": "code",
   "execution_count": 7,
   "metadata": {},
   "outputs": [
    {
     "name": "stdout",
     "output_type": "stream",
     "text": [
      "4.9.0\n",
      "\n",
      "0: 384x640 13 persons, 1 boat, 273.9ms\n",
      "Speed: 2.5ms preprocess, 273.9ms inference, 4.5ms postprocess per image at shape (1, 3, 384, 640)\n"
     ]
    },
    {
     "ename": "AttributeError",
     "evalue": "module 'cv2' has no attribute 'legacy'",
     "output_type": "error",
     "traceback": [
      "\u001b[1;31m---------------------------------------------------------------------------\u001b[0m",
      "\u001b[1;31mAttributeError\u001b[0m                            Traceback (most recent call last)",
      "Cell \u001b[1;32mIn[7], line 50\u001b[0m\n\u001b[0;32m     47\u001b[0m         person_ids\u001b[38;5;241m.\u001b[39madd(person_id)\n\u001b[0;32m     49\u001b[0m         \u001b[38;5;66;03m# Create and add a tracker for the detected person\u001b[39;00m\n\u001b[1;32m---> 50\u001b[0m         tracker \u001b[38;5;241m=\u001b[39m \u001b[43mcreate_tracker\u001b[49m\u001b[43m(\u001b[49m\u001b[43mframe\u001b[49m\u001b[43m,\u001b[49m\u001b[43m \u001b[49m\u001b[43m(\u001b[49m\u001b[43mx\u001b[49m\u001b[43m,\u001b[49m\u001b[43m \u001b[49m\u001b[43my\u001b[49m\u001b[43m,\u001b[49m\u001b[43m \u001b[49m\u001b[43mw\u001b[49m\u001b[43m,\u001b[49m\u001b[43m \u001b[49m\u001b[43mh\u001b[49m\u001b[43m)\u001b[49m\u001b[43m)\u001b[49m\n\u001b[0;32m     51\u001b[0m         trackers\u001b[38;5;241m.\u001b[39mappend((tracker, person_id))\n\u001b[0;32m     53\u001b[0m \u001b[38;5;66;03m# Update all trackers and remove those that are no longer tracking\u001b[39;00m\n",
      "Cell \u001b[1;32mIn[7], line 22\u001b[0m, in \u001b[0;36mcreate_tracker\u001b[1;34m(frame, bbox)\u001b[0m\n\u001b[0;32m     21\u001b[0m \u001b[38;5;28;01mdef\u001b[39;00m \u001b[38;5;21mcreate_tracker\u001b[39m(frame, bbox):\n\u001b[1;32m---> 22\u001b[0m     tracker \u001b[38;5;241m=\u001b[39m \u001b[43mcv2\u001b[49m\u001b[38;5;241;43m.\u001b[39;49m\u001b[43mlegacy\u001b[49m\u001b[38;5;241m.\u001b[39mTrackerKCF_create()\n\u001b[0;32m     23\u001b[0m     tracker\u001b[38;5;241m.\u001b[39minit(frame, bbox)\n\u001b[0;32m     24\u001b[0m     \u001b[38;5;28;01mreturn\u001b[39;00m tracker\n",
      "\u001b[1;31mAttributeError\u001b[0m: module 'cv2' has no attribute 'legacy'"
     ]
    }
   ],
   "source": [
    "import cv2\n",
    "from ultralytics import YOLO\n",
    "import uuid\n",
    "\n",
    "print(cv2.__version__)\n",
    "\n",
    "# Load the YOLOv8 model\n",
    "model = YOLO(\"yolov8s.pt\")  # You can choose different model sizes: yolov8n.pt, yolov8s.pt, etc.\n",
    "\n",
    "# Open the video file\n",
    "video_path = \"PeopleCounting-ComputerVision/3.mp4\"\n",
    "cap = cv2.VideoCapture(video_path)\n",
    "\n",
    "if not cap.isOpened():\n",
    "    print(\"Error: Could not open video.\")\n",
    "    exit()\n",
    "\n",
    "trackers = []\n",
    "person_ids = set()\n",
    "\n",
    "def create_tracker(frame, bbox):\n",
    "    tracker = cv2.legacy.TrackerKCF_create()\n",
    "    tracker.init(frame, bbox)\n",
    "    return tracker\n",
    "\n",
    "while cap.isOpened():\n",
    "    ret, frame = cap.read()\n",
    "    if not ret:\n",
    "        break\n",
    "\n",
    "    # Perform inference on the current frame\n",
    "    results = model.predict(frame, device=\"cpu\")\n",
    "\n",
    "    # Extract bounding boxes and labels\n",
    "    detections = results[0].boxes\n",
    "\n",
    "    # Filter detections to count only 'person' class (class 0 in COCO dataset)\n",
    "    for detection in detections:\n",
    "        label = int(detection.cls)  # YOLO model returns label as 'cls' attribute\n",
    "        if label == 0:  # COCO class 0 is 'person'\n",
    "            # Extract bounding box\n",
    "            bbox = detection.xyxy[0].cpu().numpy()\n",
    "            x, y, w, h = int(bbox[0]), int(bbox[1]), int(bbox[2] - bbox[0]), int(bbox[3] - bbox[1])\n",
    "\n",
    "            # Create a unique ID for the detected person\n",
    "            person_id = str(uuid.uuid4())\n",
    "            person_ids.add(person_id)\n",
    "\n",
    "            # Create and add a tracker for the detected person\n",
    "            tracker = create_tracker(frame, (x, y, w, h))\n",
    "            trackers.append((tracker, person_id))\n",
    "\n",
    "    # Update all trackers and remove those that are no longer tracking\n",
    "    new_trackers = []\n",
    "    for tracker, person_id in trackers:\n",
    "        success, bbox = tracker.update(frame)\n",
    "        if success:\n",
    "            new_trackers.append((tracker, person_id))\n",
    "    trackers = new_trackers\n",
    "\n",
    "    # Draw bounding boxes and IDs on the frame\n",
    "    for tracker, person_id in trackers:\n",
    "        success, bbox = tracker.update(frame)\n",
    "        if success:\n",
    "            p1 = (int(bbox[0]), int(bbox[1]))\n",
    "            p2 = (int(bbox[0] + bbox[2]), int(bbox[1] + bbox[3]))\n",
    "            cv2.rectangle(frame, p1, p2, (255, 0, 0), 2, 1)\n",
    "            cv2.putText(frame, person_id, (p1[0], p1[1] - 10), cv2.FONT_HERSHEY_SIMPLEX, 0.75, (255, 0, 0), 2)\n",
    "\n",
    "    # Display the frame\n",
    "    cv2.imshow('Frame', frame)\n",
    "\n",
    "    # Break the loop if 'q' is pressed\n",
    "    if cv2.waitKey(1) & 0xFF == ord('q'):\n",
    "        break\n",
    "\n",
    "# Release the video capture object and close all windows\n",
    "cap.release()\n",
    "cv2.destroyAllWindows()\n",
    "\n",
    "# Print the total number of unique people detected\n",
    "print(f\"Total number of unique people detected: {len(person_ids)}\")\n"
   ]
  },
  {
   "cell_type": "code",
   "execution_count": null,
   "metadata": {},
   "outputs": [],
   "source": []
  }
 ],
 "metadata": {
  "kernelspec": {
   "display_name": "Python 3",
   "language": "python",
   "name": "python3"
  },
  "language_info": {
   "codemirror_mode": {
    "name": "ipython",
    "version": 3
   },
   "file_extension": ".py",
   "mimetype": "text/x-python",
   "name": "python",
   "nbconvert_exporter": "python",
   "pygments_lexer": "ipython3",
   "version": "3.12.1"
  }
 },
 "nbformat": 4,
 "nbformat_minor": 2
}
